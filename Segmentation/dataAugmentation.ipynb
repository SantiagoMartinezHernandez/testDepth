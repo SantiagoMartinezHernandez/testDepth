{
 "cells": [
  {
   "cell_type": "code",
   "execution_count": 3,
   "source": [
    "import imageio\r\n",
    "import numpy as np\r\n",
    "import imgaug as ia\r\n",
    "import imgaug.augmenters as iaa\r\n",
    "from imgaug.augmentables.segmaps import SegmentationMapsOnImage\r\n",
    "from PIL import Image\r\n",
    "from numpy import asarray\r\n",
    "import os\r\n"
   ],
   "outputs": [],
   "metadata": {}
  },
  {
   "cell_type": "code",
   "execution_count": 29,
   "source": [
    "Path = \"C:/Users/SEBASTIAN/Downloads/pruebaColor/\"\r\n",
    "listnames_img = os.listdir(Path+\"x\")\r\n",
    "listnames_mask = os.listdir(Path+\"y\")\r\n",
    "\r\n",
    "def names_img(listnames_img,Path):\r\n",
    "    listnames_img_arr = []\r\n",
    "    for idx,vars in enumerate(listnames_img):\r\n",
    "        nameImage = Path + \"x/\" + vars\r\n",
    "        listnames_img_arr.append(nameImage)\r\n",
    "    return listnames_img_arr\r\n",
    "\r\n",
    "def names_mask(listnames_mask,Path):\r\n",
    "    listnames_mask_arr = []\r\n",
    "    for idx,vars in enumerate(listnames_mask):\r\n",
    "        nameImage = Path + 'y/' + vars\r\n",
    "        listnames_mask_arr.append(nameImage)\r\n",
    "    return listnames_mask_arr\r\n",
    "    "
   ],
   "outputs": [
    {
     "output_type": "stream",
     "name": "stdout",
     "text": [
      "[('C:/Users/SEBASTIAN/Downloads/pruebaColor/x/img000760.jpg', 'C:/Users/SEBASTIAN/Downloads/pruebaColor/y/img000760.png'), ('C:/Users/SEBASTIAN/Downloads/pruebaColor/x/img000771.jpg', 'C:/Users/SEBASTIAN/Downloads/pruebaColor/y/img000771.png'), ('C:/Users/SEBASTIAN/Downloads/pruebaColor/x/img000781.jpg', 'C:/Users/SEBASTIAN/Downloads/pruebaColor/y/img000781.png'), ('C:/Users/SEBASTIAN/Downloads/pruebaColor/x/img000790.jpg', 'C:/Users/SEBASTIAN/Downloads/pruebaColor/y/img000790.png'), ('C:/Users/SEBASTIAN/Downloads/pruebaColor/x/img000811.jpg', 'C:/Users/SEBASTIAN/Downloads/pruebaColor/y/img000811.png'), ('C:/Users/SEBASTIAN/Downloads/pruebaColor/x/img000860.jpg', 'C:/Users/SEBASTIAN/Downloads/pruebaColor/y/img000860.png')]\n"
     ]
    }
   ],
   "metadata": {}
  },
  {
   "cell_type": "code",
   "execution_count": 22,
   "source": [
    "# Define our augmentation pipeline.\r\n",
    "seq1 = iaa.Sequential([\r\n",
    "    iaa.Sharpen((0.0, 1.0)),       # sharpen the image\r\n",
    "    iaa.Affine(rotate=(-5,5),scale=(1.2,1.5)), \r\n",
    "    iaa.Fliplr(0.5),\r\n",
    "    iaa.GaussianBlur(sigma=(0.0,1.5))\r\n",
    "], random_order=True)\r\n",
    "\r\n",
    "seq2 = iaa.Sequential([\r\n",
    "    iaa.Sharpen((0.0, 1.0)),       # sharpen the image\r\n",
    "    iaa.Affine(rotate=(-20,20),scale=(1.5,1.7)), \r\n",
    "    iaa.Fliplr(0.5),\r\n",
    "    iaa.GaussianBlur(sigma=(0.0,1.5))\r\n",
    "], random_order=True)"
   ],
   "outputs": [],
   "metadata": {}
  },
  {
   "cell_type": "code",
   "execution_count": null,
   "source": [
    "def augmenter(listnames_img_arr,listnames_mask_arr,Path,numImgPerImg=250):\r\n",
    "    #numImgPerImg -> Number of result images for one image.\r\n",
    "    allNames = list(zip(listnames_img_arr,listnames_mask_arr))\r\n",
    "    contP = 0\r\n",
    "    contS = 0\r\n",
    "    #img_contP_contS.png\r\n",
    "    #mask_contP_contS.png\r\n",
    "    for img,mask in allNames:\r\n",
    "        img = asarray(Image.open(img))\r\n",
    "        mask = asarray(Image.open(mask))\r\n",
    "        mask = SegmentationMapsOnImage(mask, shape=img.shape)\r\n",
    "        mask = mask.resize(sizes = (480,640))\r\n",
    "        \r\n",
    "        for i in range(numImgPerImg):\r\n",
    "            img_aug_i, mask_aug_i = seq1(image=img, segmentation_maps=mask)\r\n",
    "            if i >= int(numImgPerImg/2):\r\n",
    "                img_aug_i, mask_aug_i = seq2(image=img, segmentation_maps=mask)\r\n",
    "            \r\n",
    "            img_aug_i = Image.fromarray(img_aug_i)\r\n",
    "            mask_aug_i = Image.fromarray(mask_aug_i)\r\n",
    "\r\n",
    "            img_aug_i.save(Path +'x_augm/'+'img'+'_'+str(contP)+'_'+str(contS)+'.png')\r\n",
    "            mask_aug_i.save(Path +'x_augm/'+'mask'+'_'+str(contP)+'_'+str(contS)+'.png')\r\n",
    "            contS += 1\r\n",
    "        contP += 1\r\n",
    "\r\n",
    "listnames_img_arr = names_img(listnames_img,Path)\r\n",
    "listnames_mask_arr = names_mask(listnames_mask,Path)        \r\n",
    "augmenter(listnames_img_arr,listnames_mask_arr,Path,numImgPerImg=5)\r\n",
    "        \r\n",
    "\r\n",
    "\r\n",
    "\r\n",
    "\r\n",
    "        "
   ],
   "outputs": [],
   "metadata": {}
  }
 ],
 "metadata": {
  "orig_nbformat": 4,
  "language_info": {
   "name": "python",
   "version": "3.8.11",
   "mimetype": "text/x-python",
   "codemirror_mode": {
    "name": "ipython",
    "version": 3
   },
   "pygments_lexer": "ipython3",
   "nbconvert_exporter": "python",
   "file_extension": ".py"
  },
  "kernelspec": {
   "name": "python3",
   "display_name": "Python 3.8.11 64-bit ('tfGPU': conda)"
  },
  "interpreter": {
   "hash": "34762148349b2362e7d9923b495d5418f36c2e56d70661f27801488a30eb82ee"
  }
 },
 "nbformat": 4,
 "nbformat_minor": 2
}