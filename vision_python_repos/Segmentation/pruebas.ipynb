{
 "cells": [
  {
   "cell_type": "code",
   "execution_count": 1,
   "metadata": {},
   "outputs": [],
   "source": [
    "from tensorflow.keras.callbacks import ModelCheckpoint\n",
    "from tensorflow.keras.callbacks import CSVLogger\n",
    "from tensorflow.keras.callbacks import EarlyStopping\n",
    "from tensorflow.keras.optimizers import RMSprop\n",
    "from tensorflow.keras.applications import ResNet50V2\n",
    "import os\n",
    "import numpy as np\n",
    "from tensorflow import keras\n",
    "from tensorflow.keras import layers\n",
    "from tensorflow.keras.utils import Sequence\n",
    "from tensorflow.keras.preprocessing.image import load_img\n",
    "import random \n",
    "import matplotlib.pyplot as plt"
   ]
  },
  {
   "cell_type": "code",
   "execution_count": 12,
   "metadata": {},
   "outputs": [],
   "source": [
    "#Paths\n",
    "Path_img = \"C:/Users/SEBASTIAN/OneDrive - Universidad de los Andes/Documentos/img_aug/x_aug/\"\n",
    "Path_mask = \"C:/Users/SEBASTIAN/OneDrive - Universidad de los Andes/Documentos/img_aug/y_aug/\"\n",
    "path_img_0 = \"C:/Users/SEBASTIAN/OneDrive - Universidad de los Andes/Documentos/img_aug/x_aug/img_0_0.PNG\"\n",
    "path_mask_0 = \"C:/Users/SEBASTIAN/OneDrive - Universidad de los Andes/Documentos/img_aug/y_aug/mask_0_0.PNG\"\n",
    "\n",
    "path_img_1 = \"C:/Users/SEBASTIAN/OneDrive - Universidad de los Andes/Documentos/img_aug/x_aug/img_1_414.png\"\n",
    "path_mask_1 = \"C:/Users/SEBASTIAN/OneDrive - Universidad de los Andes/Documentos/img_aug/y_aug/mask_1_414.png\""
   ]
  },
  {
   "cell_type": "code",
   "execution_count": 22,
   "metadata": {},
   "outputs": [
    {
     "name": "stdout",
     "output_type": "stream",
     "text": [
      "(480, 640, 3)\n",
      "(480, 640, 1)\n"
     ]
    }
   ],
   "source": [
    "x = np.zeros((3,) + (480,640) + (3,), dtype=\"float32\")\n",
    "y = np.zeros((3,) + (480,640) + (1,), dtype=\"uint8\")\n",
    "img = load_img(path_img_0, target_size=(480,640))\n",
    "mask = load_img(path_mask_0,target_size=(480,640),color_mode='grayscale')\n",
    "mask = np.expand_dims(mask,2)\n",
    "x[0] = img\n",
    "y[0] = mask\n",
    "print(x[0].shape)\n",
    "print(y[0].shape)"
   ]
  },
  {
   "cell_type": "code",
   "execution_count": 23,
   "metadata": {},
   "outputs": [
    {
     "name": "stdout",
     "output_type": "stream",
     "text": [
      "Imagen original\n",
      "15.0 243.0\n",
      "Imagen normalizada una vez\n",
      "1.0617284 2.0\n",
      "Mask shape\n",
      "0 7\n"
     ]
    }
   ],
   "source": [
    "mx = np.max(img)\n",
    "img_norm_0 = (img/mx) + 1 #Normalize the images.\n",
    "x[1] = img_norm_0\n",
    "print(\"Imagen original\")\n",
    "print(x[0].min(),x[0].max())\n",
    "print(\"Imagen normalizada una vez\")\n",
    "print(x[1].min(),x[1].max())\n",
    "print(\"Mask shape\")\n",
    "print(y[0].min(),y[0].max())"
   ]
  },
  {
   "cell_type": "code",
   "execution_count": 26,
   "metadata": {},
   "outputs": [
    {
     "name": "stdout",
     "output_type": "stream",
     "text": [
      "(480, 640, 3)\n",
      "(480, 640, 1)\n"
     ]
    }
   ],
   "source": [
    "x = np.zeros((3,) + (480,640) + (3,), dtype=\"float32\")\n",
    "y = np.zeros((3,) + (480,640) + (1,), dtype=\"uint8\")\n",
    "img = load_img(path_img_1, target_size=(480,640))\n",
    "mask = load_img(path_mask_1,target_size=(480,640),color_mode='grayscale')\n",
    "mask = np.expand_dims(mask,2)\n",
    "x[0] = img\n",
    "y[0] = mask\n",
    "print(x[0].shape)\n",
    "print(y[0].shape)"
   ]
  },
  {
   "cell_type": "code",
   "execution_count": 31,
   "metadata": {},
   "outputs": [
    {
     "name": "stdout",
     "output_type": "stream",
     "text": [
      "Imagen original\n",
      "0.0 255.0\n",
      "Imagen normalizada una vez\n",
      "7.0 8.0\n",
      "Mask logits\n",
      "0 7\n"
     ]
    }
   ],
   "source": [
    "mx = np.max(img)\n",
    "img_norm_0 = (img/mx) + 1 #Normalize the images.\n",
    "x[1] = img_norm_0\n",
    "print(\"Imagen original\")\n",
    "print(x[0].min(),x[0].max())\n",
    "print(\"Imagen normalizada una vez\")\n",
    "print(x[1].min(),x[1].max())\n",
    "print(\"Mask logits\")\n",
    "print(y[0].min(),y[0].max())"
   ]
  },
  {
   "cell_type": "code",
   "execution_count": 30,
   "metadata": {},
   "outputs": [
    {
     "name": "stdout",
     "output_type": "stream",
     "text": [
      "[[[False]\n",
      "  [False]\n",
      "  [False]\n",
      "  ...\n",
      "  [False]\n",
      "  [False]\n",
      "  [False]]\n",
      "\n",
      " [[False]\n",
      "  [False]\n",
      "  [False]\n",
      "  ...\n",
      "  [False]\n",
      "  [False]\n",
      "  [False]]\n",
      "\n",
      " [[False]\n",
      "  [False]\n",
      "  [False]\n",
      "  ...\n",
      "  [False]\n",
      "  [False]\n",
      "  [False]]\n",
      "\n",
      " ...\n",
      "\n",
      " [[False]\n",
      "  [False]\n",
      "  [False]\n",
      "  ...\n",
      "  [False]\n",
      "  [False]\n",
      "  [False]]\n",
      "\n",
      " [[False]\n",
      "  [False]\n",
      "  [False]\n",
      "  ...\n",
      "  [False]\n",
      "  [False]\n",
      "  [False]]\n",
      "\n",
      " [[False]\n",
      "  [False]\n",
      "  [False]\n",
      "  ...\n",
      "  [False]\n",
      "  [False]\n",
      "  [False]]]\n"
     ]
    }
   ],
   "source": [
    "print(np.isnan(y[0]))"
   ]
  },
  {
   "cell_type": "code",
   "execution_count": 1,
   "metadata": {},
   "outputs": [],
   "source": [
    "from tensorflow.keras.preprocessing.image import load_img\n",
    "import numpy as np"
   ]
  },
  {
   "cell_type": "code",
   "execution_count": 2,
   "metadata": {},
   "outputs": [],
   "source": [
    "path = \"C:/Users/SEBASTIAN/OneDrive - Universidad de los Andes/Documentos/img_aug/x_aug/img_0_0.png\""
   ]
  },
  {
   "cell_type": "code",
   "execution_count": 9,
   "metadata": {},
   "outputs": [
    {
     "name": "stdout",
     "output_type": "stream",
     "text": [
      "(480, 640, 3)\n",
      "[[224 224 224]\n",
      " [224 224 224]\n",
      " [224 224 224]]\n"
     ]
    }
   ],
   "source": [
    "img = load_img(path)\n",
    "img = np.array(img)\n",
    "print(img.shape)\n",
    "print(img[0:3,0:3,0])"
   ]
  },
  {
   "cell_type": "code",
   "execution_count": 8,
   "metadata": {},
   "outputs": [
    {
     "name": "stdout",
     "output_type": "stream",
     "text": [
      "[[0.00350634 0.00350634 0.00350634]\n",
      " [0.00350634 0.00350634 0.00350634]\n",
      " [0.00350634 0.00350634 0.00350634]]\n"
     ]
    }
   ],
   "source": [
    "img = img/255\n",
    "print(img[0:3,0:3,1])"
   ]
  },
  {
   "cell_type": "code",
   "execution_count": 7,
   "metadata": {},
   "outputs": [
    {
     "data": {
      "text/plain": [
       "0.8784313725490196"
      ]
     },
     "execution_count": 7,
     "metadata": {},
     "output_type": "execute_result"
    }
   ],
   "source": [
    "from PIL.Image import open"
   ]
  },
  {
   "cell_type": "code",
   "execution_count": 13,
   "metadata": {},
   "outputs": [],
   "source": [
    "def display(displey_list):\n",
    "    for i in range(len(displey_list)):\n",
    "        plt.subplot(1,len(displey_list),i+1)\n",
    "        plt.imshow(displey_list[i])\n",
    "    plt.show()"
   ]
  }
 ],
 "metadata": {
  "interpreter": {
   "hash": "34762148349b2362e7d9923b495d5418f36c2e56d70661f27801488a30eb82ee"
  },
  "kernelspec": {
   "display_name": "Python 3.8.11 64-bit ('tfGPU': conda)",
   "name": "python3"
  },
  "language_info": {
   "codemirror_mode": {
    "name": "ipython",
    "version": 3
   },
   "file_extension": ".py",
   "mimetype": "text/x-python",
   "name": "python",
   "nbconvert_exporter": "python",
   "pygments_lexer": "ipython3",
   "version": "3.8.11"
  },
  "orig_nbformat": 4
 },
 "nbformat": 4,
 "nbformat_minor": 2
}
