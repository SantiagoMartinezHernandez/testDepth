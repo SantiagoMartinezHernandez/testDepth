{
 "cells": [
  {
   "cell_type": "code",
   "execution_count": 1,
   "metadata": {},
   "outputs": [],
   "source": [
    "import numpy as np\n",
    "import pandas as pd\n",
    "import os\n",
    "from PIL.Image import open\n",
    "import matplotlib.pyplot as plt\n",
    "from PIL import ImageOps\n",
    "import random "
   ]
  },
  {
   "cell_type": "code",
   "execution_count": 2,
   "metadata": {},
   "outputs": [],
   "source": [
    "#Paths\n",
    "Path_img = \"C:/Users/SEBASTIAN/OneDrive - Universidad de los Andes/Documentos/img_aug/x_aug/\"\n",
    "#Path_mask = \"C:/Users/SEBASTIAN/OneDrive - Universidad de los Andes/Documentos/img_aug/y_aug/\"\n",
    "\n",
    "Path_mask = \"C:/Users/SEBASTIAN/OneDrive - Universidad de los Andes/OctavoSemestre/Robocol_vision/Img/Set1_Mask_Gray/Imagenes/\"\n",
    "\n",
    "weights_path = \"C:/Users/SEBASTIAN/OneDrive - Universidad de los Andes/Documentos/img_aug/weights/\"\n",
    "path_csv = \"C:/Users/SEBASTIAN/OneDrive - Universidad de los Andes/Documentos/img_aug/weights/logger.csv\"\n",
    "\n",
    "#Path list images\n",
    "img_paths = [\n",
    "    os.path.join(Path_img, fname)\n",
    "    for fname in os.listdir(Path_img)\n",
    "]\n",
    "\n",
    "mask_paths = [\n",
    "    os.path.join(Path_mask, fname)\n",
    "    for fname in os.listdir(Path_mask)    \n",
    "]\n"
   ]
  },
  {
   "cell_type": "markdown",
   "metadata": {},
   "source": [
    "### Pruebas externas que se hicieron"
   ]
  },
  {
   "cell_type": "code",
   "execution_count": 16,
   "metadata": {},
   "outputs": [],
   "source": [
    "def displayNormal(displey_list):\n",
    "    for i in range(len(displey_list)):\n",
    "        plt.subplot(1,len(displey_list),i+1)\n",
    "        plt.imshow(displey_list[i])\n",
    "    plt.show()\n",
    "\n",
    "def displayClass(display_list):\n",
    "    for i in range(len(display_list)):\n",
    "        plt.subplot(1,len(display_list),i+1)\n",
    "        print(i)\n",
    "        if i == 0:\n",
    "            img = ImageOps.autocontrast(display_list[i])\n",
    "            plt.imshow(img)\n",
    "            #plt.imshow(display_list[i])\n",
    "        else:\n",
    "            plt.imshow(display_list[i])\n",
    "    plt.show()\n",
    "        \n",
    "    \n"
   ]
  },
  {
   "cell_type": "code",
   "execution_count": 24,
   "metadata": {},
   "outputs": [],
   "source": [
    "prueba_mask = mask_paths[0]\n",
    "prueba_img = img_paths[0]\n",
    "prueba_mask = open(prueba_mask)\n",
    "prueba_img = open(prueba_img)\n",
    "prueba_mask = np.asarray(prueba_mask)\n",
    "pruebas_img = np.asarray(prueba_img)\n",
    "#prueba_mask.show()"
   ]
  },
  {
   "cell_type": "code",
   "execution_count": 25,
   "metadata": {},
   "outputs": [
    {
     "name": "stdout",
     "output_type": "stream",
     "text": [
      "(307200, 1)\n"
     ]
    }
   ],
   "source": [
    "prueba_mask = np.reshape(prueba_mask,(-1,1))\n",
    "print(prueba_mask.shape)"
   ]
  },
  {
   "cell_type": "code",
   "execution_count": 26,
   "metadata": {},
   "outputs": [
    {
     "data": {
      "text/html": [
       "<div>\n",
       "<style scoped>\n",
       "    .dataframe tbody tr th:only-of-type {\n",
       "        vertical-align: middle;\n",
       "    }\n",
       "\n",
       "    .dataframe tbody tr th {\n",
       "        vertical-align: top;\n",
       "    }\n",
       "\n",
       "    .dataframe thead th {\n",
       "        text-align: right;\n",
       "    }\n",
       "</style>\n",
       "<table border=\"1\" class=\"dataframe\">\n",
       "  <thead>\n",
       "    <tr style=\"text-align: right;\">\n",
       "      <th></th>\n",
       "      <th>0</th>\n",
       "    </tr>\n",
       "  </thead>\n",
       "  <tbody>\n",
       "    <tr>\n",
       "      <th>0</th>\n",
       "      <td>6</td>\n",
       "    </tr>\n",
       "    <tr>\n",
       "      <th>1</th>\n",
       "      <td>6</td>\n",
       "    </tr>\n",
       "    <tr>\n",
       "      <th>2</th>\n",
       "      <td>6</td>\n",
       "    </tr>\n",
       "    <tr>\n",
       "      <th>3</th>\n",
       "      <td>6</td>\n",
       "    </tr>\n",
       "    <tr>\n",
       "      <th>4</th>\n",
       "      <td>6</td>\n",
       "    </tr>\n",
       "  </tbody>\n",
       "</table>\n",
       "</div>"
      ],
      "text/plain": [
       "   0\n",
       "0  6\n",
       "1  6\n",
       "2  6\n",
       "3  6\n",
       "4  6"
      ]
     },
     "execution_count": 26,
     "metadata": {},
     "output_type": "execute_result"
    }
   ],
   "source": [
    "df_prueba_mask = pd.DataFrame(prueba_mask)\n",
    "df_prueba_mask.head()"
   ]
  },
  {
   "cell_type": "code",
   "execution_count": 31,
   "metadata": {},
   "outputs": [
    {
     "name": "stdout",
     "output_type": "stream",
     "text": [
      "2    214449\n",
      "6     64083\n",
      "7     24958\n",
      "1      3241\n",
      "5       454\n",
      "0        15\n",
      "dtype: int64\n"
     ]
    }
   ],
   "source": [
    "pd_values = df_prueba_mask.value_counts()\n",
    "print(df_prueba_mask.value_counts())"
   ]
  },
  {
   "cell_type": "code",
   "execution_count": 33,
   "metadata": {},
   "outputs": [
    {
     "name": "stdout",
     "output_type": "stream",
     "text": [
      "[(2,) (6,) (7,) (1,) (5,) (0,)]\n"
     ]
    }
   ],
   "source": [
    "valores = np.asarray(pd_values)\n",
    "idx = np.asarray(pd_values.index)\n",
    "print(idx)"
   ]
  },
  {
   "cell_type": "code",
   "execution_count": 34,
   "metadata": {},
   "outputs": [
    {
     "data": {
      "text/plain": [
       "array([214449,  64083,  24958,   3241,    454,     15], dtype=int64)"
      ]
     },
     "execution_count": 34,
     "metadata": {},
     "output_type": "execute_result"
    }
   ],
   "source": [
    "valores"
   ]
  },
  {
   "cell_type": "code",
   "execution_count": 38,
   "metadata": {},
   "outputs": [
    {
     "name": "stdout",
     "output_type": "stream",
     "text": [
      "[[    15   3241 214449      0      0    454  64083  24958      0]]\n",
      "['0', '1', '2', '3', '4', '5', '6', '7', '8']\n"
     ]
    }
   ],
   "source": [
    "almacenar = np.zeros(9,dtype='int64')\n",
    "for i,value in enumerate(idx):\n",
    "    almacenar[value[0]] = valores[i]\n",
    "\n",
    "almacenar = np.reshape(almacenar,(1,-1))\n",
    "print(almacenar) \n",
    "        \n",
    "column_name = [str(i) for i in range(9)]\n",
    "print(column_name)"
   ]
  },
  {
   "cell_type": "code",
   "execution_count": 39,
   "metadata": {},
   "outputs": [],
   "source": [
    "final_pd = pd.DataFrame(almacenar,columns=column_name)"
   ]
  },
  {
   "cell_type": "code",
   "execution_count": 40,
   "metadata": {},
   "outputs": [
    {
     "data": {
      "text/html": [
       "<div>\n",
       "<style scoped>\n",
       "    .dataframe tbody tr th:only-of-type {\n",
       "        vertical-align: middle;\n",
       "    }\n",
       "\n",
       "    .dataframe tbody tr th {\n",
       "        vertical-align: top;\n",
       "    }\n",
       "\n",
       "    .dataframe thead th {\n",
       "        text-align: right;\n",
       "    }\n",
       "</style>\n",
       "<table border=\"1\" class=\"dataframe\">\n",
       "  <thead>\n",
       "    <tr style=\"text-align: right;\">\n",
       "      <th></th>\n",
       "      <th>0</th>\n",
       "      <th>1</th>\n",
       "      <th>2</th>\n",
       "      <th>3</th>\n",
       "      <th>4</th>\n",
       "      <th>5</th>\n",
       "      <th>6</th>\n",
       "      <th>7</th>\n",
       "      <th>8</th>\n",
       "    </tr>\n",
       "  </thead>\n",
       "  <tbody>\n",
       "    <tr>\n",
       "      <th>0</th>\n",
       "      <td>15</td>\n",
       "      <td>3241</td>\n",
       "      <td>214449</td>\n",
       "      <td>0</td>\n",
       "      <td>0</td>\n",
       "      <td>454</td>\n",
       "      <td>64083</td>\n",
       "      <td>24958</td>\n",
       "      <td>0</td>\n",
       "    </tr>\n",
       "  </tbody>\n",
       "</table>\n",
       "</div>"
      ],
      "text/plain": [
       "    0     1       2  3  4    5      6      7  8\n",
       "0  15  3241  214449  0  0  454  64083  24958  0"
      ]
     },
     "execution_count": 40,
     "metadata": {},
     "output_type": "execute_result"
    }
   ],
   "source": [
    "final_pd.head()"
   ]
  },
  {
   "cell_type": "code",
   "execution_count": 3,
   "metadata": {},
   "outputs": [],
   "source": [
    "def create_super_df(path_mask):\n",
    "    column_name = [str(i) for i in range(11)]\n",
    "    analizar = pd.DataFrame(columns=column_name)\n",
    "    for path in path_mask:\n",
    "        mask = open(path)\n",
    "        mask = np.asarray(mask)\n",
    "        mask = np.reshape(mask,(-1,1))\n",
    "        df_mask = pd.DataFrame(mask)\n",
    "        value_count = df_mask.value_counts()\n",
    "        idx = value_count.index\n",
    "        #print(\"Estos son los indices=\",idx)\n",
    "        value = np.asarray(value_count)\n",
    "        #print(\"Estos son los valores=\", value)\n",
    "        #print(\"\\n\")\n",
    "        almacenar = np.zeros(11,dtype='int64')\n",
    "        for i,val in enumerate(idx):\n",
    "            almacenar[val[0]] = value[i]\n",
    "        almacenar = np.reshape(almacenar,(1,-1))\n",
    "        analizar=analizar.append(pd.DataFrame(almacenar,columns=column_name),ignore_index=True)\n",
    "    return analizar\n",
    "        \n",
    "\n",
    "important_dataFrame = create_super_df(mask_paths)   \n",
    "        \n",
    "        "
   ]
  },
  {
   "cell_type": "code",
   "execution_count": 4,
   "metadata": {},
   "outputs": [
    {
     "data": {
      "text/plain": [
       "0           43\n",
       "1       620848\n",
       "2        56432\n",
       "3     17754677\n",
       "4            0\n",
       "5            0\n",
       "6            0\n",
       "7            0\n",
       "8            0\n",
       "9            0\n",
       "10           0\n",
       "dtype: object"
      ]
     },
     "execution_count": 4,
     "metadata": {},
     "output_type": "execute_result"
    }
   ],
   "source": [
    "important_dataFrame.sum()"
   ]
  },
  {
   "cell_type": "code",
   "execution_count": 63,
   "metadata": {},
   "outputs": [
    {
     "data": {
      "text/html": [
       "<div>\n",
       "<style scoped>\n",
       "    .dataframe tbody tr th:only-of-type {\n",
       "        vertical-align: middle;\n",
       "    }\n",
       "\n",
       "    .dataframe tbody tr th {\n",
       "        vertical-align: top;\n",
       "    }\n",
       "\n",
       "    .dataframe thead th {\n",
       "        text-align: right;\n",
       "    }\n",
       "</style>\n",
       "<table border=\"1\" class=\"dataframe\">\n",
       "  <thead>\n",
       "    <tr style=\"text-align: right;\">\n",
       "      <th></th>\n",
       "      <th>0</th>\n",
       "      <th>1</th>\n",
       "      <th>2</th>\n",
       "      <th>3</th>\n",
       "      <th>4</th>\n",
       "      <th>5</th>\n",
       "      <th>6</th>\n",
       "      <th>7</th>\n",
       "      <th>8</th>\n",
       "      <th>9</th>\n",
       "      <th>10</th>\n",
       "    </tr>\n",
       "  </thead>\n",
       "  <tbody>\n",
       "    <tr>\n",
       "      <th>0</th>\n",
       "      <td>15</td>\n",
       "      <td>3241</td>\n",
       "      <td>214449</td>\n",
       "      <td>0</td>\n",
       "      <td>0</td>\n",
       "      <td>454</td>\n",
       "      <td>64083</td>\n",
       "      <td>24958</td>\n",
       "      <td>0</td>\n",
       "      <td>0</td>\n",
       "      <td>0</td>\n",
       "    </tr>\n",
       "    <tr>\n",
       "      <th>1</th>\n",
       "      <td>17</td>\n",
       "      <td>3637</td>\n",
       "      <td>223459</td>\n",
       "      <td>0</td>\n",
       "      <td>0</td>\n",
       "      <td>0</td>\n",
       "      <td>53164</td>\n",
       "      <td>26923</td>\n",
       "      <td>0</td>\n",
       "      <td>0</td>\n",
       "      <td>0</td>\n",
       "    </tr>\n",
       "    <tr>\n",
       "      <th>2</th>\n",
       "      <td>12</td>\n",
       "      <td>3187</td>\n",
       "      <td>218753</td>\n",
       "      <td>0</td>\n",
       "      <td>0</td>\n",
       "      <td>0</td>\n",
       "      <td>59132</td>\n",
       "      <td>26116</td>\n",
       "      <td>0</td>\n",
       "      <td>0</td>\n",
       "      <td>0</td>\n",
       "    </tr>\n",
       "    <tr>\n",
       "      <th>3</th>\n",
       "      <td>11</td>\n",
       "      <td>3196</td>\n",
       "      <td>218896</td>\n",
       "      <td>0</td>\n",
       "      <td>0</td>\n",
       "      <td>0</td>\n",
       "      <td>59312</td>\n",
       "      <td>25785</td>\n",
       "      <td>0</td>\n",
       "      <td>0</td>\n",
       "      <td>0</td>\n",
       "    </tr>\n",
       "    <tr>\n",
       "      <th>4</th>\n",
       "      <td>16</td>\n",
       "      <td>3191</td>\n",
       "      <td>214798</td>\n",
       "      <td>0</td>\n",
       "      <td>0</td>\n",
       "      <td>282</td>\n",
       "      <td>63653</td>\n",
       "      <td>25260</td>\n",
       "      <td>0</td>\n",
       "      <td>0</td>\n",
       "      <td>0</td>\n",
       "    </tr>\n",
       "  </tbody>\n",
       "</table>\n",
       "</div>"
      ],
      "text/plain": [
       "    0     1       2  3  4    5      6      7  8  9 10\n",
       "0  15  3241  214449  0  0  454  64083  24958  0  0  0\n",
       "1  17  3637  223459  0  0    0  53164  26923  0  0  0\n",
       "2  12  3187  218753  0  0    0  59132  26116  0  0  0\n",
       "3  11  3196  218896  0  0    0  59312  25785  0  0  0\n",
       "4  16  3191  214798  0  0  282  63653  25260  0  0  0"
      ]
     },
     "execution_count": 63,
     "metadata": {},
     "output_type": "execute_result"
    }
   ],
   "source": [
    "important_dataFrame.head()"
   ]
  },
  {
   "cell_type": "code",
   "execution_count": 76,
   "metadata": {},
   "outputs": [
    {
     "data": {
      "text/plain": [
       "<BarContainer object of 11 artists>"
      ]
     },
     "execution_count": 76,
     "metadata": {},
     "output_type": "execute_result"
    },
    {
     "data": {
      "image/png": "[encoded data removed]",
      "text/plain": [
       "<Figure size 432x288 with 1 Axes>"
      ]
     },
     "metadata": {
      "needs_background": "light"
     },
     "output_type": "display_data"
    }
   ],
   "source": [
    "suma = important_dataFrame.sum()\n",
    "values = np.asarray(suma)\n",
    "idx = suma.index\n",
    "plt.title(\"Distribución de las clases en los datos aumentados\")\n",
    "plt.bar(idx,values)"
   ]
  },
  {
   "cell_type": "code",
   "execution_count": 78,
   "metadata": {},
   "outputs": [],
   "source": [
    "#Paths\n",
    "Path_img = \"C:/Users/SEBASTIAN/OneDrive - Universidad de los Andes/Documentos/img_aug/x/\"\n",
    "Path_mask = \"C:/Users/SEBASTIAN/OneDrive - Universidad de los Andes/Documentos/img_aug/y/\"\n",
    "\n",
    "#Path list images\n",
    "img_paths = [\n",
    "    os.path.join(Path_img, fname)\n",
    "    for fname in os.listdir(Path_img)\n",
    "]\n",
    "\n",
    "mask_paths = [\n",
    "    os.path.join(Path_mask, fname)\n",
    "    for fname in os.listdir(Path_mask)    \n",
    "]\n"
   ]
  },
  {
   "cell_type": "code",
   "execution_count": 85,
   "metadata": {},
   "outputs": [
    {
     "data": {
      "text/plain": [
       "0          346\n",
       "1       818301\n",
       "2     15709988\n",
       "3       140525\n",
       "4       250492\n",
       "5       807478\n",
       "6      4485973\n",
       "7      2201037\n",
       "8         2733\n",
       "9       123848\n",
       "10       35279\n",
       "dtype: object"
      ]
     },
     "execution_count": 85,
     "metadata": {},
     "output_type": "execute_result"
    }
   ],
   "source": [
    "important_dataFrame_2 = create_super_df(mask_paths)\n",
    "important_dataFrame_2.sum()"
   ]
  },
  {
   "cell_type": "code",
   "execution_count": 84,
   "metadata": {},
   "outputs": [
    {
     "data": {
      "text/plain": [
       "<BarContainer object of 11 artists>"
      ]
     },
     "execution_count": 84,
     "metadata": {},
     "output_type": "execute_result"
    },
    {
     "data": {
      "image/png": "[encoded data removed]",
      "text/plain": [
       "<Figure size 432x288 with 1 Axes>"
      ]
     },
     "metadata": {
      "needs_background": "light"
     },
     "output_type": "display_data"
    }
   ],
   "source": [
    "suma_2 =important_dataFrame_2.sum()\n",
    "values = np.asarray(suma_2)\n",
    "idx = suma.index\n",
    "plt.title(\"Distribución de las clases en los datos aumentados\")\n",
    "plt.bar(idx,values)"
   ]
  },
  {
   "cell_type": "code",
   "execution_count": 102,
   "metadata": {},
   "outputs": [
    {
     "data": {
      "image/png": "[encoded data removed]",
      "text/plain": [
       "<Figure size 432x288 with 2 Axes>"
      ]
     },
     "metadata": {
      "needs_background": "light"
     },
     "output_type": "display_data"
    }
   ],
   "source": [
    "idx = random.randint(0,len(mask_paths))\n",
    "img_mask = open(mask_paths[idx])\n",
    "img_mask_contrast = ImageOps.autocontrast(img_mask)\n",
    "img = open(img_paths[idx])\n",
    "img_mask = np.asarray(img_mask_contrast)\n",
    "img = np.asarray(img)\n",
    "\n",
    "imagenes = [img,img_mask]\n",
    "for i,v in enumerate(imagenes):\n",
    "    plt.subplot(1,len(imagenes),i+1)\n",
    "    plt.imshow(v)\n",
    "plt.show()"
   ]
  },
  {
   "cell_type": "code",
   "execution_count": null,
   "metadata": {},
   "outputs": [],
   "source": []
  }
 ],
 "metadata": {
  "interpreter": {
   "hash": "266be0e0c8276b7bfe251c2d8f1e576c20f55c449c1d3ba8e4d1594fa70e9632"
  },
  "kernelspec": {
   "display_name": "Python 3.9.7 64-bit ('ML2': conda)",
   "name": "python3"
  },
  "language_info": {
   "codemirror_mode": {
    "name": "ipython",
    "version": 3
   },
   "file_extension": ".py",
   "mimetype": "text/x-python",
   "name": "python",
   "nbconvert_exporter": "python",
   "pygments_lexer": "ipython3",
   "version": "3.9.7"
  },
  "orig_nbformat": 4
 },
 "nbformat": 4,
 "nbformat_minor": 2
}
