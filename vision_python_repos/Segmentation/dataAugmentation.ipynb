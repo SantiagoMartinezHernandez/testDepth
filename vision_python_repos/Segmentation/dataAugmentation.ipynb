{
 "cells": [
  {
   "cell_type": "code",
   "execution_count": 1,
   "metadata": {},
   "outputs": [],
   "source": [
    "import imageio\n",
    "import numpy as np\n",
    "import imgaug as ia\n",
    "import imgaug.augmenters as iaa\n",
    "from imgaug.augmentables.segmaps import SegmentationMapsOnImage\n",
    "from PIL import Image\n",
    "from numpy import asarray\n",
    "import os\n"
   ]
  },
  {
   "cell_type": "code",
   "execution_count": 7,
   "metadata": {},
   "outputs": [],
   "source": [
    "Path = \"/media/sebastian/TOSHIBA EXT/SebastianM/DataSet_Final/Primer_augmentation/\"\n",
    "listnames_img = os.listdir(Path+\"Img\")\n",
    "listnames_mask = os.listdir(Path+\"Mask\")\n",
    "\n",
    "def names_img(listnames_img,Path):\n",
    "    listnames_img_arr = []\n",
    "    for idx,vars in enumerate(listnames_img):\n",
    "        nameImage = Path + \"Img/\" + vars\n",
    "        listnames_img_arr.append(nameImage)\n",
    "    return listnames_img_arr\n",
    "\n",
    "def names_mask(listnames_mask,Path):\n",
    "    listnames_mask_arr = []\n",
    "    for idx,vars in enumerate(listnames_mask):\n",
    "        nameImage = Path + 'Mask/' + vars\n",
    "        listnames_mask_arr.append(nameImage)\n",
    "    return listnames_mask_arr\n",
    "    "
   ]
  },
  {
   "cell_type": "code",
   "execution_count": 5,
   "metadata": {},
   "outputs": [],
   "source": [
    "# Define our augmentation pipeline.\n",
    "seq1 = iaa.Sequential([\n",
    "    iaa.Sharpen((0.0, 1.0)),       # sharpen the image\n",
    "    iaa.Affine(rotate=(-5,5),scale=(1.2,1.5)), \n",
    "    iaa.Fliplr(0.5),\n",
    "    iaa.GaussianBlur(sigma=(0.0,1.5))\n",
    "], random_order=True)\n",
    "\n",
    "seq2 = iaa.Sequential([\n",
    "    iaa.Sharpen((0.0, 1.0)),       # sharpen the image\n",
    "    iaa.Affine(rotate=(-20,20),scale=(1.5,1.7)), \n",
    "    iaa.Fliplr(0.5),\n",
    "    iaa.GaussianBlur(sigma=(0.0,1.5))\n",
    "], random_order=True)"
   ]
  },
  {
   "cell_type": "code",
   "execution_count": 9,
   "metadata": {},
   "outputs": [],
   "source": [
    "def augmenter(listnames_img_arr,listnames_mask_arr,Path,numImgPerImg=15):\n",
    "    #numImgPerImg -> Number of result images for one image.\n",
    "    allNames = list(zip(listnames_img_arr,listnames_mask_arr))\n",
    "    contP = 0\n",
    "    contS = 0\n",
    "    #img_contP_contS.png\n",
    "    #mask_contP_contS.png\n",
    "    for img,mask in allNames:\n",
    "        img = asarray(Image.open(img))\n",
    "        mask = asarray(Image.open(mask))\n",
    "        mask = SegmentationMapsOnImage(mask, shape=img.shape)\n",
    "        mask = mask.resize(sizes = (480,640))\n",
    "        \n",
    "        for i in range(numImgPerImg):\n",
    "            img_aug_i, mask_aug_i = seq1(image=img, segmentation_maps=mask)\n",
    "            if i >= int(numImgPerImg/2):\n",
    "                img_aug_i, mask_aug_i = seq2(image=img, segmentation_maps=mask)\n",
    "            \n",
    "            img_aug_i = Image.fromarray(img_aug_i)\n",
    "            mask_aug_i = Image.fromarray(mask_aug_i.get_arr())\n",
    "\n",
    "            img_aug_i.save(Path +'x_aug/'+'img'+'_'+str(contP)+'_'+str(contS)+'.png')\n",
    "            mask_aug_i.save(Path +'y_aug/'+'mask'+'_'+str(contP)+'_'+str(contS)+'.png')\n",
    "            contS += 1\n",
    "        contP += 1\n",
    "\n",
    "listnames_img_arr = names_img(listnames_img,Path)\n",
    "listnames_mask_arr = names_mask(listnames_mask,Path)        \n",
    "augmenter(listnames_img_arr,listnames_mask_arr,Path)        "
   ]
  },
  {
   "cell_type": "code",
   "execution_count": null,
   "metadata": {},
   "outputs": [],
   "source": []
  }
 ],
 "metadata": {
  "interpreter": {
   "hash": "5860da03a79a9ed0e948da491c7a44bb0ed8b35b1ec92a295a2bb12252abf897"
  },
  "kernelspec": {
   "display_name": "Python 3.6.9 64-bit ('robocol_vision': venv)",
   "name": "python3"
  },
  "language_info": {
   "codemirror_mode": {
    "name": "ipython",
    "version": 3
   },
   "file_extension": ".py",
   "mimetype": "text/x-python",
   "name": "python",
   "nbconvert_exporter": "python",
   "pygments_lexer": "ipython3",
   "version": "3.6.9"
  },
  "orig_nbformat": 4
 },
 "nbformat": 4,
 "nbformat_minor": 2
}
