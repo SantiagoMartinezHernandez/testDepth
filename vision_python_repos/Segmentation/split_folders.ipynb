{
 "cells": [
  {
   "cell_type": "code",
   "execution_count": 1,
   "metadata": {},
   "outputs": [],
   "source": [
    "import splitfolders"
   ]
  },
  {
   "cell_type": "code",
   "execution_count": 4,
   "metadata": {},
   "outputs": [
    {
     "name": "stderr",
     "output_type": "stream",
     "text": [
      "Copying files: 1230 files [00:03, 361.28 files/s]\n"
     ]
    }
   ],
   "source": [
    "input_path = \"/media/sebastian/TOSHIBA EXT/SebastianM/DataSet_Final/Data_set/\"\n",
    "output_path = \"/media/sebastian/TOSHIBA EXT/SebastianM/DataSet_Final/Data_set_split/\"\n",
    "\n",
    "splitfolders.ratio(input=input_path,output=output_path,seed=1337,ratio=(0.7,0.1,0.2))\n"
   ]
  },
  {
   "cell_type": "code",
   "execution_count": null,
   "metadata": {},
   "outputs": [],
   "source": []
  }
 ],
 "metadata": {
  "interpreter": {
   "hash": "5860da03a79a9ed0e948da491c7a44bb0ed8b35b1ec92a295a2bb12252abf897"
  },
  "kernelspec": {
   "display_name": "Python 3.6.9 64-bit ('robocol_vision': venv)",
   "name": "python3"
  },
  "language_info": {
   "codemirror_mode": {
    "name": "ipython",
    "version": 3
   },
   "file_extension": ".py",
   "mimetype": "text/x-python",
   "name": "python",
   "nbconvert_exporter": "python",
   "pygments_lexer": "ipython3",
   "version": "3.6.9"
  },
  "orig_nbformat": 4
 },
 "nbformat": 4,
 "nbformat_minor": 2
}
